{
 "cells": [
  {
   "cell_type": "code",
   "execution_count": null,
   "id": "6f6d73fb",
   "metadata": {},
   "outputs": [],
   "source": [
    "#\"\"\"Còn thiếu function hỏi play again thì trả lời ký tự đầu tiên khác [y] thì dừng hẳn\"\n",
    "import random\n",
    "while True:\n",
    "    pick = random.randint(0,1)\n",
    "    print(f\"pick = {pick}\")\n",
    "    current_number = 0\n",
    "    if pick == 0:\n",
    "        player = \"human\"        \n",
    "    elif pick == 1:\n",
    "        player = \"PC\"\n",
    "       \n",
    "    while current_number <= 21:\n",
    "        print(f\"Điểm hiện tại = {current_number}\\n\")\n",
    "        if player == \"human\":\n",
    "            print(\"human's turn\")\n",
    "            player_choice = int(input(\"human + : \"))\n",
    "            while 1 <= player_choice <= 3:\n",
    "                break\n",
    "            else:\n",
    "                print(\"choice again\")\n",
    "            current_number += player_choice\n",
    "            \n",
    "            if current_number >= 21:\n",
    "                print(f\"{current_number}, human Loseeee\\n\")\n",
    "                play_again = input(\"Do u wanna play again? \")\n",
    "                for i in play_again:\n",
    "                    if play_again[1] == \"y\":\n",
    "                        current_number = 0\n",
    "                        continue\n",
    "                    else:\n",
    "                        current_number = 99\n",
    "                        break\n",
    "                #break\n",
    "            else:\n",
    "                player = \"PC\"\n",
    "        elif player == \"PC\":\n",
    "            print(\"PC's turn\")         \n",
    "            player_choice = random.randint(1,3)\n",
    "            print(f\"PC +: {player_choice}\")\n",
    "            current_number += player_choice\n",
    "            if current_number >= 21:\n",
    "                print(f\"{current_number},PC Loseeee\\n\")\n",
    "                play_again = input(\"Do u wanna play again? \")\n",
    "                for i in play_again:\n",
    "                    if play_again[1] == \"y\":\n",
    "                        current_number = 0\n",
    "                        continue\n",
    "                    else:\n",
    "                        current_number = 99\n",
    "                        break\n",
    "                #break\n",
    "            else:\n",
    "                player = \"human\"\n",
    "\n"
   ]
  },
  {
   "cell_type": "code",
   "execution_count": null,
   "id": "01c643ad",
   "metadata": {},
   "outputs": [],
   "source": [
    "   "
   ]
  }
 ],
 "metadata": {
  "kernelspec": {
   "display_name": "Python 3 (ipykernel)",
   "language": "python",
   "name": "python3"
  },
  "language_info": {
   "codemirror_mode": {
    "name": "ipython",
    "version": 3
   },
   "file_extension": ".py",
   "mimetype": "text/x-python",
   "name": "python",
   "nbconvert_exporter": "python",
   "pygments_lexer": "ipython3",
   "version": "3.9.7"
  }
 },
 "nbformat": 4,
 "nbformat_minor": 5
}
