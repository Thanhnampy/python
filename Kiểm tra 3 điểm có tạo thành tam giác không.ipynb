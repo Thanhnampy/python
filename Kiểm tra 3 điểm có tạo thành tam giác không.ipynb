{
 "cells": [
  {
   "cell_type": "code",
   "execution_count": 1,
   "id": "92e9bfd8",
   "metadata": {},
   "outputs": [
    {
     "name": "stdout",
     "output_type": "stream",
     "text": [
      "Hoanh do diem A: 1\n",
      "Tung do diem A: 4\n",
      "Tọa độ điểm A là: (1,4)\n",
      "Hoanh do diem B: 4\n",
      "Tung do diem B: 8\n",
      "Tọa độ điểm B là: (4,8)\n",
      "Hoanh do diem C: 3\n",
      "Tung do diem C: 2\n",
      "Tọa độ điểm C là: (3,2)\n",
      "A,B,C là 3 đỉnh của tam giác\n",
      "Tam giác ABC là tam giác thường\n"
     ]
    }
   ],
   "source": [
    "import math\n",
    "\n",
    "# Nhập tọa độ 3 điểm\n",
    "xA = int(input(\"Hoanh do diem A: \"))\n",
    "yA = int(input(\"Tung do diem A: \"))\n",
    "print(f\"Tọa độ điểm A là: ({xA},{yA})\")\n",
    "\n",
    "xB = int(input(\"Hoanh do diem B: \"))\n",
    "yB = int(input(\"Tung do diem B: \"))\n",
    "print(f\"Tọa độ điểm B là: ({xB},{yB})\")\n",
    "\n",
    "xC = int(input(\"Hoanh do diem C: \"))\n",
    "yC = int(input(\"Tung do diem C: \"))\n",
    "print(f\"Tọa độ điểm C là: ({xC},{yC})\")\n",
    "# Tính độ dài AB\n",
    "d1 = math.sqrt(math.pow(xB-xA, 2) + math.pow(yB-yA, 2))\n",
    "\n",
    "# Tính độ dài AC\n",
    "d2 = math.sqrt(math.pow(xC-xA, 2) + math.pow(yC-yA, 2))\n",
    "\n",
    "# Tính độ dài BC\n",
    "d3 = math.sqrt(math.pow(xC-xB, 2) + math.pow(yC-yB, 2))\n",
    "\n",
    "if d1+d2>d3 or d1+d3>d2 or d2+d3>d1:\n",
    "      print(\"A,B,C là 3 đỉnh của tam giác\")\n",
    "      if d1==d2 or d1==d3 or d2==d3:\n",
    "          print(\"Tam giác ABC là tam giác cân\")\n",
    "      if d1==d2==d3:\n",
    "          print(\"Tam giác ABC là tam giác đều\")\n",
    "      else:\n",
    "          print(\"Tam giác ABC là tam giác thường\")"
   ]
  }
 ],
 "metadata": {
  "kernelspec": {
   "display_name": "Python 3 (ipykernel)",
   "language": "python",
   "name": "python3"
  },
  "language_info": {
   "codemirror_mode": {
    "name": "ipython",
    "version": 3
   },
   "file_extension": ".py",
   "mimetype": "text/x-python",
   "name": "python",
   "nbconvert_exporter": "python",
   "pygments_lexer": "ipython3",
   "version": "3.9.7"
  }
 },
 "nbformat": 4,
 "nbformat_minor": 5
}
