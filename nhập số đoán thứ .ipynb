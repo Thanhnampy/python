{
 "cells": [
  {
   "cell_type": "code",
   "execution_count": 5,
   "id": "4e76b760",
   "metadata": {},
   "outputs": [
    {
     "name": "stdout",
     "output_type": "stream",
     "text": [
      "Nhập 1 số trong khoảng 0-6: 7\n",
      "Nhập sai, yêu cầu nhập lại đúng giá trị yêu cầu.\n"
     ]
    }
   ],
   "source": [
    "numb = int(input(\"Nhập 1 số trong khoảng 0-6: \"))\n",
    "if numb <= 6 :\n",
    "    print(f\"Giá trị bạn nhập là: {numb} \")\n",
    "    if numb == 0 :\n",
    "        print(\"Thứ 2\")\n",
    "    if numb == 1 :\n",
    "        print(\"Thứ 3\")\n",
    "    if numb == 2 :\n",
    "        print(\"Thứ 4\")\n",
    "    if numb == 3 :\n",
    "        print(\"Thứ 5\")\n",
    "    if numb == 4 :\n",
    "        print(\"Thứ 6\")\n",
    "    if numb == 5 :\n",
    "        print(\"Thứ 7\")\n",
    "    if numb == 6 :\n",
    "        print(\"Chủ nhật\")\n",
    "else:\n",
    "    print(\"Nhập sai, yêu cầu nhập lại đúng giá trị yêu cầu.\")\n",
    "    "
   ]
  }
 ],
 "metadata": {
  "kernelspec": {
   "display_name": "Python 3 (ipykernel)",
   "language": "python",
   "name": "python3"
  },
  "language_info": {
   "codemirror_mode": {
    "name": "ipython",
    "version": 3
   },
   "file_extension": ".py",
   "mimetype": "text/x-python",
   "name": "python",
   "nbconvert_exporter": "python",
   "pygments_lexer": "ipython3",
   "version": "3.9.7"
  }
 },
 "nbformat": 4,
 "nbformat_minor": 5
}
