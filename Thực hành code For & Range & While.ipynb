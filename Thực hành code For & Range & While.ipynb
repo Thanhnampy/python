{
 "cells": [
  {
   "cell_type": "code",
   "execution_count": 1,
   "id": "090a7964",
   "metadata": {},
   "outputs": [
    {
     "name": "stdout",
     "output_type": "stream",
     "text": [
      "Nhập N: 0\n"
     ]
    }
   ],
   "source": [
    "n = int(input(\"Nhập N: \"))\n",
    "for i in range (1,n+1):\n",
    "    if n%i == 0:\n",
    "        print(f\"Ước của {n} là: {i}\")"
   ]
  },
  {
   "cell_type": "code",
   "execution_count": 2,
   "id": "103e7231",
   "metadata": {},
   "outputs": [
    {
     "name": "stdout",
     "output_type": "stream",
     "text": [
      "Nhập N: 0\n",
      "0 không phải số nguyên tố\n"
     ]
    }
   ],
   "source": [
    "# kiểm tra xem N có phải là số nguyên tố hay không\n",
    "# là nó chỉ có 2 ước\n",
    "count = 0\n",
    "n = int(input(\"Nhập N: \"))\n",
    "for i in range (1,n//2): # cho chạy đến n//2 vì 1 số chỉ chia hết cho <= một nửa của nó\n",
    "    if n%i == 0:\n",
    "        count += 1\n",
    "if count == 2:\n",
    "    print(f\"{n} là số nguyên tố\")\n",
    "else:\n",
    "    print(f\"{n} không phải số nguyên tố\")"
   ]
  },
  {
   "cell_type": "code",
   "execution_count": 3,
   "id": "1d48f649",
   "metadata": {},
   "outputs": [
    {
     "name": "stdout",
     "output_type": "stream",
     "text": [
      "Nhập n = 0\n",
      "Nhập m = 0\n",
      "UCLN là 0\n"
     ]
    }
   ],
   "source": [
    "# Tìm ước chung lớn nhất của 2 số\n",
    "n = int(input(\"Nhập n = \"))\n",
    "m = int(input(\"Nhập m = \"))\n",
    "while m!=n:\n",
    "    if m > n:\n",
    "        m-=n\n",
    "    elif m < n:\n",
    "        n-=m\n",
    "print(f\"UCLN là {m}\")    "
   ]
  },
  {
   "cell_type": "code",
   "execution_count": 14,
   "id": "a6f50046",
   "metadata": {},
   "outputs": [
    {
     "name": "stdout",
     "output_type": "stream",
     "text": [
      "    NGuyennn ThANh   naMM              asdddf\n",
      "['nguyennn', 'thanh', 'namm', 'asdddf']\n",
      "Nguyennn Thanh Namm Asdddf \n"
     ]
    }
   ],
   "source": [
    "text = input(\"\")\n",
    "name = text.strip().lower()\n",
    "words = name.split()\n",
    "print(words)\n",
    "space = \"\"\n",
    "for word in words:\n",
    "    if word != \" \":\n",
    "        space += word[0:] + \" \"\n",
    "print(space.title()) "
   ]
  },
  {
   "cell_type": "code",
   "execution_count": null,
   "id": "1034266b",
   "metadata": {},
   "outputs": [],
   "source": []
  },
  {
   "cell_type": "code",
   "execution_count": null,
   "id": "b15fae97",
   "metadata": {},
   "outputs": [],
   "source": []
  }
 ],
 "metadata": {
  "kernelspec": {
   "display_name": "Python 3 (ipykernel)",
   "language": "python",
   "name": "python3"
  },
  "language_info": {
   "codemirror_mode": {
    "name": "ipython",
    "version": 3
   },
   "file_extension": ".py",
   "mimetype": "text/x-python",
   "name": "python",
   "nbconvert_exporter": "python",
   "pygments_lexer": "ipython3",
   "version": "3.9.7"
  }
 },
 "nbformat": 4,
 "nbformat_minor": 5
}
