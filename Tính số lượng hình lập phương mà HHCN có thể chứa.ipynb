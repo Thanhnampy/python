{
 "cells": [
  {
   "cell_type": "code",
   "execution_count": 1,
   "id": "89ec069c",
   "metadata": {},
   "outputs": [
    {
     "name": "stdout",
     "output_type": "stream",
     "text": [
      "Số lượng HLP mà HHCN có thể chứa là: 19314 \n"
     ]
    }
   ],
   "source": [
    "def tinhsoluong():\n",
    "    import math\n",
    "    # nhap 3 gia tri hinh hop chu nhat\n",
    "    x = 111\n",
    "    y = 87\n",
    "    z = 56\n",
    "    chieudai = x // 3\n",
    "    chieurong = y //3\n",
    "    chieucao = z // 3\n",
    "    # tính số lượng hình lập phương \n",
    "    soluong = chieudai * chieurong * chieucao\n",
    "    print(f\"Số lượng HLP mà HHCN có thể chứa là: {soluong} \")  \n",
    "    \n",
    "\n",
    "if __name__==\"__main__\":\n",
    "    tinhsoluong()"
   ]
  },
  {
   "cell_type": "code",
   "execution_count": null,
   "id": "0eea9a99",
   "metadata": {},
   "outputs": [],
   "source": []
  }
 ],
 "metadata": {
  "kernelspec": {
   "display_name": "Python 3 (ipykernel)",
   "language": "python",
   "name": "python3"
  },
  "language_info": {
   "codemirror_mode": {
    "name": "ipython",
    "version": 3
   },
   "file_extension": ".py",
   "mimetype": "text/x-python",
   "name": "python",
   "nbconvert_exporter": "python",
   "pygments_lexer": "ipython3",
   "version": "3.9.7"
  }
 },
 "nbformat": 4,
 "nbformat_minor": 5
}
