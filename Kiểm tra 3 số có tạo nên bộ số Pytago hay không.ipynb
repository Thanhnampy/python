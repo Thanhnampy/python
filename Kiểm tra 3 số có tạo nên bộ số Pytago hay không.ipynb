{
 "cells": [
  {
   "cell_type": "code",
   "execution_count": 1,
   "id": "81abbcfe",
   "metadata": {},
   "outputs": [
    {
     "name": "stdout",
     "output_type": "stream",
     "text": [
      "Nhập a =  3\n",
      "Nhập b =  4\n",
      "Nhập c =  5\n",
      "3, 4, 5 có tạo nên 1 bộ số pytago\n"
     ]
    }
   ],
   "source": [
    "#Nhập vào 3 số tự nhiên, hỏi 3 số đó có tạo nên 1 bộ số Pitago hay không?\n",
    "a = int(input(\"Nhập a =  \"))\n",
    "b = int(input(\"Nhập b =  \"))\n",
    "c = int(input(\"Nhập c =  \"))\n",
    "\n",
    "d = a*a\n",
    "e = b*b\n",
    "f = c*c\n",
    "\n",
    "if d==e+f or e==d+f or f==d+e :\n",
    "    print(f\"{a}, {b}, {c} có tạo nên 1 bộ số pytago\")\n",
    "else:\n",
    "    print(f\"{a}, {b}, {c} không tạo nên bộ số pytago\")\n"
   ]
  },
  {
   "cell_type": "code",
   "execution_count": null,
   "id": "57c71ff4",
   "metadata": {},
   "outputs": [],
   "source": []
  }
 ],
 "metadata": {
  "kernelspec": {
   "display_name": "Python 3 (ipykernel)",
   "language": "python",
   "name": "python3"
  },
  "language_info": {
   "codemirror_mode": {
    "name": "ipython",
    "version": 3
   },
   "file_extension": ".py",
   "mimetype": "text/x-python",
   "name": "python",
   "nbconvert_exporter": "python",
   "pygments_lexer": "ipython3",
   "version": "3.9.7"
  }
 },
 "nbformat": 4,
 "nbformat_minor": 5
}
