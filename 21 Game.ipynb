{
 "cells": [
  {
   "cell_type": "code",
   "execution_count": null,
   "id": "0cac1bd8",
   "metadata": {},
   "outputs": [
    {
     "name": "stdout",
     "output_type": "stream",
     "text": [
      "Điểm hiện tại = 0\n",
      "Human thêm: 1\n",
      "Điểm hiện tại = 1\n"
     ]
    }
   ],
   "source": [
    "import random\n",
    "while True:\n",
    "    pick = random.randint(0,1)\n",
    "    count = 0\n",
    "    if pick == 0:\n",
    "        play = \"human\"\n",
    "    elif pick == 1:\n",
    "        play = \"PC\"\n",
    "    while count <= 21:\n",
    "        print(f\"Điểm hiện tại = {count}\")\n",
    "        if play == \"human\":            \n",
    "            while True :\n",
    "                player_choice = int(input(\"Human thêm: \"))\n",
    "                if 1<=player_choice<=3:\n",
    "                    break\n",
    "            count += player_choice\n",
    "            if count >=21:\n",
    "                print(f\"Count = {count}, You lost\")\n",
    "            else:\n",
    "                play == \"PC\"\n",
    "                           \n",
    "            \n",
    "        elif play == \"PC\":\n",
    "            computer_choice=random.randint(1,3)\n",
    "            print(f\"PC thêm = {computer_choice}\")\n",
    "            count += computer_choice\n",
    "            if count >=21:\n",
    "                print(f\"Count = {count}, PC lost\")\n",
    "            else:\n",
    "                play == \"human\"\n",
    "            print(\"\\n\")\n",
    "            \n",
    "            \n",
    "            \n",
    "    play_again = input(\"Do you want to play again? \")\n",
    "    if play_again[1] == \"y\":\n",
    "        continue\n",
    "    else:\n",
    "        break\n",
    "            \n",
    "\n",
    "        \n",
    "\n"
   ]
  },
  {
   "cell_type": "code",
   "execution_count": null,
   "id": "0665d7c9",
   "metadata": {},
   "outputs": [],
   "source": []
  },
  {
   "cell_type": "code",
   "execution_count": null,
   "id": "2979981e",
   "metadata": {},
   "outputs": [],
   "source": []
  }
 ],
 "metadata": {
  "kernelspec": {
   "display_name": "Python 3 (ipykernel)",
   "language": "python",
   "name": "python3"
  },
  "language_info": {
   "codemirror_mode": {
    "name": "ipython",
    "version": 3
   },
   "file_extension": ".py",
   "mimetype": "text/x-python",
   "name": "python",
   "nbconvert_exporter": "python",
   "pygments_lexer": "ipython3",
   "version": "3.9.7"
  }
 },
 "nbformat": 4,
 "nbformat_minor": 5
}
