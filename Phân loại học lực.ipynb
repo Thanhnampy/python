{
 "cells": [
  {
   "cell_type": "code",
   "execution_count": 3,
   "id": "76630941",
   "metadata": {},
   "outputs": [
    {
     "data": {
      "text/plain": [
       "'\\nBài 1: Điểm thành phần của một môn học gồm: điểm 15 phút hệ số 1, \\nđiểm kiểm tra giữa kì hệ số 1,5 và điểm kiểm tra cuối kì hệ số 2. \\nNhập vào các điểm thành phần môn Toán của một học sinh. Xếp loại \\nđiểm môn Toán biết nếu điểm tổng kết thang điểm 10 của môn Toán \\n>= 8 thì loại giỏi, 8>đtb>=6,5 thì loại khá, 6,5>đtb>=5 thì loại Trung bình, \\nnhỏ hơn 5 thì loại yếu, còn lại thì lỗi nhập dữ liệu.\\n\\n'"
      ]
     },
     "execution_count": 3,
     "metadata": {},
     "output_type": "execute_result"
    }
   ],
   "source": [
    "\"\"\"\n",
    "Bài 1: Điểm thành phần của một môn học gồm: điểm 15 phút hệ số 1, \n",
    "điểm kiểm tra giữa kì hệ số 1,5 và điểm kiểm tra cuối kì hệ số 2. \n",
    "Nhập vào các điểm thành phần môn Toán của một học sinh. Xếp loại \n",
    "điểm môn Toán biết nếu điểm tổng kết thang điểm 10 của môn Toán \n",
    ">= 8 thì loại giỏi, 8>đtb>=6,5 thì loại khá, 6,5>đtb>=5 thì loại Trung bình, \n",
    "nhỏ hơn 5 thì loại yếu, còn lại thì lỗi nhập dữ liệu.\n",
    "\n",
    "\"\"\""
   ]
  },
  {
   "cell_type": "code",
   "execution_count": 7,
   "id": "96ccf28e",
   "metadata": {},
   "outputs": [
    {
     "name": "stdout",
     "output_type": "stream",
     "text": [
      "Nhập điểm môn toán của bạn\n",
      "Nhập điểm 15p: 8.75\n",
      "Nhập điểm giữa kỳ: 8.5\n",
      "Nhập điểm cuối kỳ: 8.8\n",
      "Điểm trung bình của bạn là: 8.69\n",
      "Giỏi\n"
     ]
    }
   ],
   "source": [
    "print(\"Nhập điểm môn toán của bạn\")\n",
    "\n",
    "\n",
    "a = float(input(\"Nhập điểm 15p: \"))\n",
    "b = float(input(\"Nhập điểm giữa kỳ: \"))\n",
    "c = float(input(\"Nhập điểm cuối kỳ: \"))\n",
    "\n",
    "TB = (a + b*1.5 + c*2)/(1+1.5+2)\n",
    "print(f\"Điểm trung bình của bạn là: {TB:.2f}\")\n",
    "if TB >= 8: \n",
    "    print(\"Giỏi\")\n",
    "elif 6.5 <= TB < 8 :\n",
    "    print(\"Khá\")\n",
    "elif 5 <= TB < 6.5 :\n",
    "    print(\"Trung bình\")\n",
    "elif TB < 5 :\n",
    "    print(\"Yếu\")\n",
    "else:\n",
    "    print(\"Invalid\")"
   ]
  },
  {
   "cell_type": "code",
   "execution_count": null,
   "id": "fb7453fe",
   "metadata": {},
   "outputs": [],
   "source": []
  }
 ],
 "metadata": {
  "kernelspec": {
   "display_name": "Python 3 (ipykernel)",
   "language": "python",
   "name": "python3"
  },
  "language_info": {
   "codemirror_mode": {
    "name": "ipython",
    "version": 3
   },
   "file_extension": ".py",
   "mimetype": "text/x-python",
   "name": "python",
   "nbconvert_exporter": "python",
   "pygments_lexer": "ipython3",
   "version": "3.9.7"
  }
 },
 "nbformat": 4,
 "nbformat_minor": 5
}
