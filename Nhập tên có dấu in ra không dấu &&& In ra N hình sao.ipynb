{
 "cells": [
  {
   "cell_type": "code",
   "execution_count": 1,
   "id": "f899029d",
   "metadata": {},
   "outputs": [
    {
     "name": "stdout",
     "output_type": "stream",
     "text": [
      "So hinh sao muon in: 6\n"
     ]
    }
   ],
   "source": [
    "import turtle\n",
    "line = turtle.Turtle()\n",
    "n = int(input(\"So hinh sao muon in: \"))\n",
    "line.penup()\n",
    "line.goto(-200,0)\n",
    "line.pendown()\n",
    "for j in range (n+1):\n",
    "    for i in range (5):\n",
    "        line.fd(30)\n",
    "        line.lt(144)\n",
    "    line.penup()\n",
    "    line.goto(-200+50*j,0)\n",
    "    line.pendown()\n",
    "    j+=1\n",
    "turtle.done()"
   ]
  },
  {
   "cell_type": "code",
   "execution_count": 11,
   "id": "42318f0f",
   "metadata": {},
   "outputs": [
    {
     "name": "stdout",
     "output_type": "stream",
     "text": [
      "Find name: \"\"aáàảãạâấầẩẫậăắằẳẵạ\n",
      "\"\"Aaaaaaaaaaaaaaaaaa\n"
     ]
    }
   ],
   "source": [
    "name = input(\"Find name: \")\n",
    "valid_name = \"\"\n",
    "text_1 = 'aáàảãạâấầẩẫậăắằẳẵạ'\n",
    "text_1 = text_1.upper() + text_1\n",
    "\n",
    "text_2 = 'iíìỉĩị'\n",
    "text_2 = text_2.upper() + text_2\n",
    "\n",
    "text_3 = 'eéèẻẽẹêếềểễệ'\n",
    "text_3 = text_3.upper() + text_3\n",
    "\n",
    "text_4 = 'uúùủũụưứừửữự'\n",
    "text_4 = text_4.upper() + text_4\n",
    "\n",
    "text_5 = 'oôơóòỏõọốồổỗộớờởỡợ'\n",
    "text_5 = text_5.upper() + text_5\n",
    "\n",
    "text_6 = 'đĐ'\n",
    "\n",
    "for i in name:\n",
    "    if i in text_1:\n",
    "        i = 'a'\n",
    "    elif i in text_2:\n",
    "        i = 'i'    \n",
    "    elif i in text_3:\n",
    "        i = 'e'\n",
    "    elif i in text_4:\n",
    "        i = 'u'\n",
    "    elif i in text_5:\n",
    "        i = 'o' \n",
    "    elif i in text_6:\n",
    "        i = 'd'\n",
    "    else:\n",
    "        i = i\n",
    "    valid_name += i\n",
    "print(valid_name.title())\n",
    "\n",
    "\n",
    "\n",
    "\n",
    "\n",
    "\n"
   ]
  }
 ],
 "metadata": {
  "kernelspec": {
   "display_name": "Python 3 (ipykernel)",
   "language": "python",
   "name": "python3"
  },
  "language_info": {
   "codemirror_mode": {
    "name": "ipython",
    "version": 3
   },
   "file_extension": ".py",
   "mimetype": "text/x-python",
   "name": "python",
   "nbconvert_exporter": "python",
   "pygments_lexer": "ipython3",
   "version": "3.9.7"
  }
 },
 "nbformat": 4,
 "nbformat_minor": 5
}
