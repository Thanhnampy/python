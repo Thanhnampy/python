{
 "cells": [
  {
   "cell_type": "code",
   "execution_count": 1,
   "id": "73229388",
   "metadata": {},
   "outputs": [
    {
     "name": "stdout",
     "output_type": "stream",
     "text": [
      "Nhập giới hạn xoắn: 123\n",
      "A 2 dimensional vector class, used as a helper class\n",
      "    for implementing turtle graphics.\n",
      "    May be useful for turtle graphics programs also.\n",
      "    Derived from tuple, so a vector is a tuple!\n",
      "\n",
      "    Provides (for a, b vectors, k number):\n",
      "       a+b vector addition\n",
      "       a-b vector subtraction\n",
      "       a*b inner product\n",
      "       k*a and a*k multiplication with scalar\n",
      "       |a| absolute value of a\n",
      "       a.rotate(angle) rotation\n",
      "    \n"
     ]
    }
   ],
   "source": [
    "import turtle\n",
    "t=turtle.Turtle()\n",
    "limit=float(input(\"Nhập giới hạn xoắn: \"))\n",
    "d=10\n",
    "t.speed(0)\n",
    "t.home()\n",
    "a=t.position()\n",
    "while t.distance(a)<limit:\n",
    "    t.circle(d,50)\n",
    "    d+=1\n",
    "turtle.done()"
   ]
  },
  {
   "cell_type": "code",
   "execution_count": null,
   "id": "f26e0c72",
   "metadata": {},
   "outputs": [],
   "source": []
  }
 ],
 "metadata": {
  "kernelspec": {
   "display_name": "Python 3 (ipykernel)",
   "language": "python",
   "name": "python3"
  },
  "language_info": {
   "codemirror_mode": {
    "name": "ipython",
    "version": 3
   },
   "file_extension": ".py",
   "mimetype": "text/x-python",
   "name": "python",
   "nbconvert_exporter": "python",
   "pygments_lexer": "ipython3",
   "version": "3.9.7"
  }
 },
 "nbformat": 4,
 "nbformat_minor": 5
}
