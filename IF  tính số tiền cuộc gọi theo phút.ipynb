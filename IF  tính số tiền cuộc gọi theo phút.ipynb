{
 "cells": [
  {
   "cell_type": "code",
   "execution_count": 5,
   "id": "69f8ca01",
   "metadata": {},
   "outputs": [
    {
     "name": "stdout",
     "output_type": "stream",
     "text": [
      "Nhập số phút bạn đã gọi:  222\n",
      "Số tiền phải thanh toán: 119400 VND\n"
     ]
    }
   ],
   "source": [
    "#Viết chương trình để tính cước điện thoại bàn cho một hộ gia đình. \n",
    "\"\"\" Biết rằng phí thuê bao bắt buộc là 25 nghìn, \n",
    "    600 đồng cho mỗi gọi của 50 phút đầu tiên, \n",
    "    400 đồng cho mỗi phút gọi của 150 phút tiếp theo, \n",
    "    200 đồng cho bất kỳ mỗi phút nào sau 200 phút đầu tiên. \n",
    "    Nhập vào số phút gọi, tính số tiền mà hộ gia đình đó phải trả! \"\"\"\n",
    "\n",
    "time = int(input(\"Nhập số phút bạn đã gọi:  \"))\n",
    "called = 25000\n",
    "if time <= 50:\n",
    "    bill = called + (600*time)\n",
    "    print(f\"Số tiền phải thanh toán: {bill} VND\")\n",
    "elif time <= 200:\n",
    "    bill = called + (600*50) + (400*(time - 50))\n",
    "    print(f\"Số tiền phải thanh toán: {bill} VND\")\n",
    "else:\n",
    "    bill = called + (600*50) + (400*150) + (200*(time - 200))\n",
    "    print(f\"Số tiền phải thanh toán: {bill} VND\")\n",
    "\n"
   ]
  }
 ],
 "metadata": {
  "kernelspec": {
   "display_name": "Python 3 (ipykernel)",
   "language": "python",
   "name": "python3"
  },
  "language_info": {
   "codemirror_mode": {
    "name": "ipython",
    "version": 3
   },
   "file_extension": ".py",
   "mimetype": "text/x-python",
   "name": "python",
   "nbconvert_exporter": "python",
   "pygments_lexer": "ipython3",
   "version": "3.9.7"
  }
 },
 "nbformat": 4,
 "nbformat_minor": 5
}
