{
 "cells": [
  {
   "cell_type": "code",
   "execution_count": 12,
   "id": "910d4831",
   "metadata": {},
   "outputs": [
    {
     "name": "stdout",
     "output_type": "stream",
     "text": [
      "Nhập chuỗi ký tự bất kỳ: thanh\n",
      "Chuỗi bạn vừa nhập là: thanh\n",
      "Chiều dài chuỗi là: 5\n",
      "True\n"
     ]
    }
   ],
   "source": [
    "text = input(\"Nhập chuỗi ký tự bất kỳ: \")\n",
    "print(f\"Chuỗi bạn vừa nhập là: {text}\")\n",
    "n = len(text)\n",
    "a = -1\n",
    "print(f\"Chiều dài chuỗi là: {n}\")\n",
    "if \"a\" in text:\n",
    "    print(\"True chuỗi có chứa a là 1 ký tự nguyên âm\")\n",
    "else:\n",
    "    print(\"False\")\n",
    "\n"
   ]
  },
  {
   "cell_type": "code",
   "execution_count": null,
   "id": "2d9a4e32",
   "metadata": {},
   "outputs": [],
   "source": []
  }
 ],
 "metadata": {
  "kernelspec": {
   "display_name": "Python 3 (ipykernel)",
   "language": "python",
   "name": "python3"
  },
  "language_info": {
   "codemirror_mode": {
    "name": "ipython",
    "version": 3
   },
   "file_extension": ".py",
   "mimetype": "text/x-python",
   "name": "python",
   "nbconvert_exporter": "python",
   "pygments_lexer": "ipython3",
   "version": "3.9.7"
  }
 },
 "nbformat": 4,
 "nbformat_minor": 5
}
