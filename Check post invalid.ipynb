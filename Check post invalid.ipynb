{
 "cells": [
  {
   "cell_type": "code",
   "execution_count": 18,
   "id": "4437fe7f",
   "metadata": {},
   "outputs": [
    {
     "name": "stdout",
     "output_type": "stream",
     "text": [
      "Enter 3 sentenses: abcd. efgh asdjhkah kldlsk. hjajhfsjah asldkasd asd asddd.\n",
      "['abcd', ' efgh asdjhkah kldlsk', ' hjajhfsjah asldkasd asd asddd', '']\n",
      "['', 'efgh', 'asdjhkah', 'kldlsk']\n",
      "['', 'hjajhfsjah', 'asldkasd', 'asd', 'asddd']\n",
      "['']\n",
      "False\n",
      "post invalid\n"
     ]
    }
   ],
   "source": [
    "text = input(\"Enter 3 sentenses: \")\n",
    "sentences = text.split(\".\")\n",
    "print(sentences)\n",
    "post_1 = sentences[1].split(\" \")\n",
    "post_2 = sentences[2].split(\" \")\n",
    "post_3 = sentences[3].split(\" \")\n",
    "\n",
    "print(post_1)\n",
    "print(post_2)\n",
    "print(post_3)\n",
    "# sex, racist, violence, child abuse\n",
    "\n",
    "check_sex = (\"sex\" in post_1) or (\"sex\" in post_2) or (\"sex\" in post_3)  \n",
    "check_racist = (\"racist\" in post_1) or (\"racist\" in post_2) or (\"racist\" in post_3)  \n",
    "check_violence = (\"violence\" in post_1) or (\"violence\" in post_2) or (\"violence\" in post_3)\n",
    "check_child = (\"child abuse\" in post_1) or (\"child abuse\" in post_2) or (\"child abuse\" in post_3)\n",
    "\n",
    "kt = print(check_sex or check_racist or check_violence or check_child)\n",
    "print(\"post invalid\")\n"
   ]
  },
  {
   "cell_type": "code",
   "execution_count": null,
   "id": "e01f682c",
   "metadata": {},
   "outputs": [],
   "source": []
  }
 ],
 "metadata": {
  "kernelspec": {
   "display_name": "Python 3 (ipykernel)",
   "language": "python",
   "name": "python3"
  },
  "language_info": {
   "codemirror_mode": {
    "name": "ipython",
    "version": 3
   },
   "file_extension": ".py",
   "mimetype": "text/x-python",
   "name": "python",
   "nbconvert_exporter": "python",
   "pygments_lexer": "ipython3",
   "version": "3.9.7"
  }
 },
 "nbformat": 4,
 "nbformat_minor": 5
}
