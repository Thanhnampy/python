{
 "cells": [
  {
   "cell_type": "code",
   "execution_count": 3,
   "id": "75516429",
   "metadata": {},
   "outputs": [
    {
     "name": "stdout",
     "output_type": "stream",
     "text": [
      "Nhập bảng nhân: 3\n",
      "3x1=3\n",
      "3x2=6\n",
      "3x3=9\n",
      "3x4=12\n",
      "3x5=15\n",
      "3x6=18\n",
      "3x7=21\n",
      "3x8=24\n",
      "3x9=27\n",
      "3x10=30\n"
     ]
    }
   ],
   "source": [
    "# in bảng cửu chương\n",
    "n = int(input(\"Nhập bảng nhân: \"))\n",
    "s = 0\n",
    "for i in range (0,10):\n",
    "    i+=1\n",
    "    s=n*i\n",
    "    print(f\"{n}x{i}={s}\")"
   ]
  },
  {
   "cell_type": "code",
   "execution_count": null,
   "id": "6ca970bd",
   "metadata": {},
   "outputs": [],
   "source": []
  }
 ],
 "metadata": {
  "kernelspec": {
   "display_name": "Python 3 (ipykernel)",
   "language": "python",
   "name": "python3"
  },
  "language_info": {
   "codemirror_mode": {
    "name": "ipython",
    "version": 3
   },
   "file_extension": ".py",
   "mimetype": "text/x-python",
   "name": "python",
   "nbconvert_exporter": "python",
   "pygments_lexer": "ipython3",
   "version": "3.9.7"
  }
 },
 "nbformat": 4,
 "nbformat_minor": 5
}
