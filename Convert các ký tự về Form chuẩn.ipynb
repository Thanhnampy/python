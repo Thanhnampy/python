{
 "cells": [
  {
   "cell_type": "code",
   "execution_count": 3,
   "id": "05ef2aae",
   "metadata": {},
   "outputs": [
    {
     "name": "stdout",
     "output_type": "stream",
     "text": [
      "['nGUYen', 'THANh', 'nAm']\n",
      "Định dạng chuẩn là: Nguyen Thanh Nam \n"
     ]
    }
   ],
   "source": [
    "# Bài tập string\n",
    "# Nhập họ tên 3 từ rồi in ra định dạng đúng\n",
    "text = \"   nGUYen THANh nAm  \"\n",
    "text = text.strip()\n",
    "words = text.split(\" \")\n",
    "print(words)\n",
    "a = words[0].lower()\n",
    "b = words[1].lower()\n",
    "c = words[2].lower()\n",
    "\n",
    "name = a + \" \" + b + \" \" + c\n",
    "name = name.title()\n",
    "print(f\"Định dạng chuẩn là: {name} \")\n"
   ]
  },
  {
   "cell_type": "code",
   "execution_count": null,
   "id": "781778fe",
   "metadata": {},
   "outputs": [],
   "source": []
  },
  {
   "cell_type": "code",
   "execution_count": null,
   "id": "0981739c",
   "metadata": {},
   "outputs": [],
   "source": []
  }
 ],
 "metadata": {
  "kernelspec": {
   "display_name": "Python 3 (ipykernel)",
   "language": "python",
   "name": "python3"
  },
  "language_info": {
   "codemirror_mode": {
    "name": "ipython",
    "version": 3
   },
   "file_extension": ".py",
   "mimetype": "text/x-python",
   "name": "python",
   "nbconvert_exporter": "python",
   "pygments_lexer": "ipython3",
   "version": "3.9.7"
  }
 },
 "nbformat": 4,
 "nbformat_minor": 5
}
