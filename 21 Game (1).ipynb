{
 "cells": [
  {
   "cell_type": "code",
   "execution_count": null,
   "id": "6f6d73fb",
   "metadata": {},
   "outputs": [
    {
     "name": "stdout",
     "output_type": "stream",
     "text": [
      "pick = 0\n",
      "Điểm hiện tại = 0\n",
      "\n",
      "human's turn\n",
      "human + : 6\n",
      "choice again\n",
      "PC's turn\n",
      "PC +: 2\n",
      "Điểm hiện tại = 8\n",
      "\n",
      "human's turn\n"
     ]
    }
   ],
   "source": [
    "import random\n",
    "while True:\n",
    "    pick = random.randint(0,1)\n",
    "    print(f\"pick = {pick}\")\n",
    "    current_number = 0\n",
    "    if pick == 0:\n",
    "        player = \"human\"\n",
    "        \n",
    "    elif pick == 1:\n",
    "        player = \"PC\"\n",
    "       \n",
    "    while current_number <= 21:\n",
    "        print(f\"Điểm hiện tại = {current_number}\\n\")\n",
    "        if player == \"human\":\n",
    "            print(\"human's turn\")\n",
    "            player_choice = int(input(\"human + : \"))\n",
    "            while 1 <= player_choice <= 3:\n",
    "                #current_number += player_choice\n",
    "                break\n",
    "            else:\n",
    "                print(\"choice again\")\n",
    "                \n",
    "            current_number += player_choice\n",
    "            if current_number >= 21:\n",
    "                print(f\"{current_number}, human Loseeee\")\n",
    "                break\n",
    "            else:\n",
    "                print(\"PC's turn\")\n",
    "                player == \"PC\"          \n",
    "                player_choice = random.randint(1,3)\n",
    "                print(f\"PC +: {player_choice}\")\n",
    "                current_number += player_choice\n",
    "                if current_number >= 21:\n",
    "                    print(f\"{current_number},PC Loseeee\")\n",
    "                else:\n",
    "                    player == \"human\"\n",
    "                    \n",
    "\n"
   ]
  },
  {
   "cell_type": "code",
   "execution_count": null,
   "id": "1b356db5",
   "metadata": {},
   "outputs": [],
   "source": [
    "   "
   ]
  }
 ],
 "metadata": {
  "kernelspec": {
   "display_name": "Python 3 (ipykernel)",
   "language": "python",
   "name": "python3"
  },
  "language_info": {
   "codemirror_mode": {
    "name": "ipython",
    "version": 3
   },
   "file_extension": ".py",
   "mimetype": "text/x-python",
   "name": "python",
   "nbconvert_exporter": "python",
   "pygments_lexer": "ipython3",
   "version": "3.9.7"
  }
 },
 "nbformat": 4,
 "nbformat_minor": 5
}
