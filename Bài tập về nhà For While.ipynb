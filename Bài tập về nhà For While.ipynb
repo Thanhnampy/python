{
 "cells": [
  {
   "cell_type": "code",
   "execution_count": 1,
   "id": "5346d69e",
   "metadata": {},
   "outputs": [
    {
     "name": "stdout",
     "output_type": "stream",
     "text": [
      "nguyen thanh     nam\n",
      "['nguyen', 'thanh', '', '', '', '', 'nam']\n",
      "Nguyen Thanh Nam "
     ]
    }
   ],
   "source": [
    "'''\n",
    "Bài 1: Nhập vào họ tên của một người. Giữa các chữ cái có thể có một hoặc nhiều khoảng trắng,\n",
    "các chữ cái có thể nhập vào chữ thường, chữ hoa tuỳ ý. Chuẩn hoá và in họ tên vừa nhập ra màn hình \n",
    "(chuẩn hoá có nghĩa là giữa các chữ chỉ có 1 khoảng trắng, Chữ cái đầu mỗi từ phải viết hoa, còn lại là chữ thường).\n",
    "'''\n",
    "text = \"   NGuyEn THaNh     NAM  \"\n",
    "name = text.strip().lower()\n",
    "print(name)\n",
    "word = name.split(\" \")\n",
    "print(word)\n",
    "for i in word:\n",
    "    if i!= \"\":\n",
    "        i = i[0].upper()+i[1:] #in ra 1 chuỗi theo chuẩn tên\n",
    "        print(i, end=\" \") \n",
    "\n"
   ]
  },
  {
   "cell_type": "code",
   "execution_count": 19,
   "id": "3e22a8c4",
   "metadata": {},
   "outputs": [
    {
     "name": "stdout",
     "output_type": "stream",
     "text": [
      "Giá trị C = 3\n",
      "Giá trị A = 26\n",
      "Giá trị B = 30\n",
      "Giá trị D = 108\n",
      "Giá trị x = 8\n",
      "Giá trị F = 2\n",
      "Invalid\n"
     ]
    }
   ],
   "source": [
    "'''\n",
    "Bài 2: Một vã vạch hàng hóa là một chuỗi có 13 chữ số, \n",
    "chữ số cuối cùng gọi là chữ số kiểm tra C. \n",
    "Gọi A là tổng các chữ số ở vị trí lẻ (trừ chữ số kiểm tra C). \n",
    "Gọi B là tổng các chữ số ở vị trí chẵn. Gọi D = 3A + B. \n",
    "Nếu phần dư của D chia cho 10 khác không thì F=10-phần dư, \n",
    "ngược lại F = 0. Một mã vạch được coi là mã vạch đúng nếu F=C. \n",
    "Viết phần mềm kiểm tra tính đúng đắn của một mã vạch nhập vào. \n",
    "Ví dụ: 4902778120972 là 1 mã vạch đúng, 4902778120973 là không phải mã vạch.\n",
    "'''\n",
    "\n",
    "#code = int(input(\"Nhập code: \"))\n",
    "code = \"4902778120973\"\n",
    "C = int(code[12])\n",
    "print(f\"Giá trị C = {C}\")\n",
    "i = 0\n",
    "A = 0\n",
    "B = 0\n",
    "for i in range (0,12):\n",
    "    if i%2!=0:\n",
    "        A+=int(code[i]) #do C ở vị trí cuối là vị trí 12 nên k dc cộng vào A\n",
    "    else:\n",
    "        B+=int(code[i])\n",
    "    i+=1\n",
    "print(f\"Giá trị A = {A}\")\n",
    "print(f\"Giá trị B = {B}\")\n",
    "D = B + 3*A\n",
    "print(f\"Giá trị D = {D}\")\n",
    "x = D%10\n",
    "print(f\"Giá trị x = {x}\")\n",
    "if x != 0 : \n",
    "    F = 10 - x\n",
    "else: \n",
    "    F = 0\n",
    "print(f\"Giá trị F = {F}\")\n",
    "\n",
    "\n",
    "if F == C:\n",
    "    print(\"Valid\")\n",
    "else:\n",
    "    print(\"Invalid\")"
   ]
  },
  {
   "cell_type": "code",
   "execution_count": null,
   "id": "4ce54228",
   "metadata": {},
   "outputs": [],
   "source": []
  }
 ],
 "metadata": {
  "kernelspec": {
   "display_name": "Python 3 (ipykernel)",
   "language": "python",
   "name": "python3"
  },
  "language_info": {
   "codemirror_mode": {
    "name": "ipython",
    "version": 3
   },
   "file_extension": ".py",
   "mimetype": "text/x-python",
   "name": "python",
   "nbconvert_exporter": "python",
   "pygments_lexer": "ipython3",
   "version": "3.9.7"
  }
 },
 "nbformat": 4,
 "nbformat_minor": 5
}
