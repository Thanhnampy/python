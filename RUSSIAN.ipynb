{
 "cells": [
  {
   "cell_type": "code",
   "execution_count": null,
   "id": "7b5975fa",
   "metadata": {},
   "outputs": [],
   "source": [
    "import turtle\n",
    "line=turtle.Turtle()\n",
    "line.pensize(3)\n",
    "\n",
    "line.penup()\n",
    "line.goto(-400,-200)\n",
    "line.pendown()\n",
    "\n",
    "height = 180\n",
    "width = 800\n",
    "\n",
    "line.fillcolor(\"red\")\n",
    "line.begin_fill()\n",
    "for i in range (2):\n",
    "    line.fd(width)\n",
    "    line.lt(90)\n",
    "    line.fd(height)\n",
    "    line.lt(90)\n",
    "line.end_fill()\n",
    "    \n",
    "line.penup()\n",
    "line.goto(-400,-200 + height)\n",
    "line.pendown()\n",
    "\n",
    "line.fillcolor(\"blue\")\n",
    "line.begin_fill()\n",
    "for i in range (2):\n",
    "    line.fd(width)\n",
    "    line.lt(90)\n",
    "    line.fd(height)\n",
    "    line.lt(90)\n",
    "line.end_fill()\n",
    "    \n",
    "line.penup()\n",
    "line.goto(-400,-200 + height + height)\n",
    "line.pendown()\n",
    "\n",
    "line.fillcolor(\"white\")\n",
    "line.begin_fill()\n",
    "for i in range (2):\n",
    "    line.fd(width)\n",
    "    line.lt(90)\n",
    "    line.fd(height)\n",
    "    line.lt(90)\n",
    "line.end_fill()\n",
    "\n",
    "line.penup()\n",
    "line.goto(-400,-300)\n",
    "line.pendown()\n",
    "\n",
    "line.write(\"RUSSIAN FLAG\", font=(\"Arial\", 40, \"bold\"))\n",
    "\n",
    "turtle.done()"
   ]
  },
  {
   "cell_type": "code",
   "execution_count": null,
   "id": "aef97323",
   "metadata": {},
   "outputs": [],
   "source": []
  }
 ],
 "metadata": {
  "kernelspec": {
   "display_name": "Python 3 (ipykernel)",
   "language": "python",
   "name": "python3"
  },
  "language_info": {
   "codemirror_mode": {
    "name": "ipython",
    "version": 3
   },
   "file_extension": ".py",
   "mimetype": "text/x-python",
   "name": "python",
   "nbconvert_exporter": "python",
   "pygments_lexer": "ipython3",
   "version": "3.9.7"
  }
 },
 "nbformat": 4,
 "nbformat_minor": 5
}
