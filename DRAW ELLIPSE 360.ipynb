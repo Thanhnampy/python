{
 "cells": [
  {
   "cell_type": "code",
   "execution_count": 1,
   "id": "4dd8bd3e",
   "metadata": {},
   "outputs": [],
   "source": [
    "import turtle\n",
    "line = turtle.Turtle()\n",
    "line.speed(30)\n",
    "line.pensize(4)\n",
    "s=0\n",
    "color_list=[\"blue\",\"pink\",\"purple\",\"black\",\"yellow\",\"red\",\"green\",\"grey\"]\n",
    "while s<8:\n",
    "    for c in color_list:\n",
    "        line.color([c]) \n",
    "        i = 0\n",
    "        while i<2:\n",
    "            line.circle(100,90)\n",
    "            line.circle(50,90)\n",
    "            i+=1\n",
    "        line.lt(10)\n",
    "    s+=1\n",
    "       \n",
    "turtle.done()"
   ]
  },
  {
   "cell_type": "code",
   "execution_count": null,
   "id": "431a4b06",
   "metadata": {},
   "outputs": [],
   "source": []
  },
  {
   "cell_type": "code",
   "execution_count": null,
   "id": "04537e6c",
   "metadata": {},
   "outputs": [],
   "source": []
  }
 ],
 "metadata": {
  "kernelspec": {
   "display_name": "Python 3 (ipykernel)",
   "language": "python",
   "name": "python3"
  },
  "language_info": {
   "codemirror_mode": {
    "name": "ipython",
    "version": 3
   },
   "file_extension": ".py",
   "mimetype": "text/x-python",
   "name": "python",
   "nbconvert_exporter": "python",
   "pygments_lexer": "ipython3",
   "version": "3.9.7"
  }
 },
 "nbformat": 4,
 "nbformat_minor": 5
}
